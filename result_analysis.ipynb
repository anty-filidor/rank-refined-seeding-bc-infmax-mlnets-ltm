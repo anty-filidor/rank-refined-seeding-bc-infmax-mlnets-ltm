{
 "cells": [
  {
   "cell_type": "code",
   "execution_count": null,
   "metadata": {},
   "outputs": [],
   "source": [
    "from pathlib import Path\n",
    "\n",
    "%matplotlib inline\n",
    "import matplotlib.pyplot as plt\n",
    "import numpy as np\n",
    "import pandas as pd\n",
    "\n",
    "import seaborn as sns\n",
    "\n",
    "from matplotlib.backends.backend_pdf import PdfPages\n",
    "from pandas_profiling import ProfileReport"
   ]
  },
  {
   "cell_type": "code",
   "execution_count": null,
   "metadata": {},
   "outputs": [],
   "source": [
    "df = pd.read_csv(\"experiments/all_results.csv\")\n",
    "df = df.drop(\"Unnamed: 0\", axis=1)\n",
    "df.head()"
   ]
  },
  {
   "cell_type": "code",
   "execution_count": null,
   "metadata": {},
   "outputs": [],
   "source": [
    "ss_methods = df[\"selection_metric\"].unique()\n",
    "nets = df[\"network\"].unique()\n",
    "protocols = df[\"protocol\"].unique()\n",
    "\n",
    "ss_methods, nets, protocols"
   ]
  },
  {
   "attachments": {},
   "cell_type": "markdown",
   "metadata": {},
   "source": [
    "## Visualisations"
   ]
  },
  {
   "cell_type": "code",
   "execution_count": null,
   "metadata": {},
   "outputs": [],
   "source": [
    "jet = plt.get_cmap(\"jet\")\n",
    "\n",
    "def plot_series(\n",
    "    series: pd.DataFrame, ax: plt.Axes, x: str, y:str, label: str\n",
    ") -> None:\n",
    "    # color = next(colors)\n",
    "    avg = series.groupby(x)[y].mean()\n",
    "    std = series.groupby(x)[y].std()\n",
    "    ax.scatter(x=avg.index, y=avg.values, label=label, alpha=0.8)\n",
    "    # ax.fill_between(x=avg.index, y1=avg-std, y2=avg+std, alpha=0.1, color=color)\n"
   ]
  },
  {
   "cell_type": "code",
   "execution_count": null,
   "metadata": {},
   "outputs": [],
   "source": [
    "x = \"mi_value\"\n",
    "y = \"gain\"\n",
    "\n",
    "proto = protocols[0]\n",
    "proto_df = df.loc[df[\"protocol\"] == proto]\n",
    "proto_df = proto_df.drop(\"protocol\", axis=1)\n",
    "\n",
    "net = nets[3]\n",
    "net_proto_df = proto_df.loc[proto_df[\"network\"] == net]\n",
    "net_proto_df = net_proto_df.drop(\"network\", axis=1)\n",
    "\n",
    "fig, ax = plt.subplots(nrows=1, ncols=1)\n",
    "\n",
    "colors = iter(jet(np.linspace(0,1,len(ss_methods))))\n",
    "\n",
    "for idx, ssm in enumerate(ss_methods):\n",
    "    ssm_net_proto_df = net_proto_df.loc[net_proto_df[\"selection_metric\"] == ssm]\n",
    "    ssm_net_proto_df = ssm_net_proto_df.drop(\"selection_metric\", axis=1)\n",
    "    plot_series(series=ssm_net_proto_df, ax=ax, x=x, y=y, label=ssm)\n",
    "    # break\n",
    "\n",
    "ax.legend(loc=\"center left\", bbox_to_anchor=(1, 0.5))\n",
    "ax.set_xlabel(x)\n",
    "ax.set_ylabel(y)\n",
    "fig.suptitle(f\"protocole: {proto}, network: {net}\")"
   ]
  },
  {
   "cell_type": "code",
   "execution_count": null,
   "metadata": {},
   "outputs": [],
   "source": [
    "mi_values = net_proto_df[\"mi_value\"].unique()\n",
    "\n",
    "fig, ax = plt.subplots(nrows=1, ncols=len(mi_values))\n",
    "fig.tight_layout()\n",
    "\n",
    "for idx, mi in enumerate(mi_values):\n",
    "    mi_net_proto_df = net_proto_df.loc[net_proto_df[\"mi_value\"] == mi]\n",
    "    for ssm in ss_methods:\n",
    "        ssm_net_proto_df = mi_net_proto_df.loc[mi_net_proto_df[\"selection_metric\"] == ssm]\n",
    "        plot_series(series=ssm_net_proto_df, ax=ax[idx], x=x, y=y, label=ssm)\n",
    "\n",
    "ax[-1].legend(loc=\"center left\", bbox_to_anchor=(1, 0.5))\n",
    "for idx, axx in enumerate(ax):\n",
    "    axx.set_xticks([mi_values[idx]])\n",
    "ax[0].set_ylabel(y)\n",
    "ax[len(ax) // 2].set_xlabel(x)\n",
    "fig.suptitle(f\"protocole: {proto}, network: {net}\")\n"
   ]
  },
  {
   "attachments": {},
   "cell_type": "markdown",
   "metadata": {},
   "source": [
    "## Heatmaps"
   ]
  },
  {
   "cell_type": "code",
   "execution_count": null,
   "metadata": {},
   "outputs": [],
   "source": [
    "def plot_heatmap(\n",
    "    vis_df: pd.DataFrame, heatmap_ax: plt.Axes, bar_ax: plt.Axes, vrange=(0, 100), cmap=\"RdYlGn\"\n",
    ") -> None:\n",
    "    sns.heatmap(\n",
    "        vis_df,\n",
    "        ax=heatmap_ax,\n",
    "        cbar_ax=bar_ax,\n",
    "        cmap=cmap,\n",
    "        vmin=vrange[0],\n",
    "        vmax=vrange[1],\n",
    "        annot=True,\n",
    "        annot_kws={\"size\": 9},\n",
    "        fmt=\".0f\",\n",
    "        yticklabels=vis_df.index.to_numpy().round(2),\n",
    "        xticklabels=vis_df.columns.to_numpy().round(2),\n",
    "        linewidth=.5,\n",
    "    )\n",
    "    heatmap_ax.invert_yaxis()"
   ]
  },
  {
   "attachments": {},
   "cell_type": "markdown",
   "metadata": {},
   "source": [
    "### single plot"
   ]
  },
  {
   "cell_type": "code",
   "execution_count": null,
   "metadata": {},
   "outputs": [],
   "source": [
    "x = \"mi_value\"\n",
    "y = \"seeding_budget\"\n",
    "z = \"gain\"\n",
    "\n",
    "net = \"aucs\"\n",
    "ssm = \"greedy\"\n",
    "\n",
    "fig, ax = plt.subplots(\n",
    "    nrows=1, ncols=3, figsize=(10, 4), gridspec_kw={'width_ratios': [49, 49, 2]}\n",
    ")\n",
    "fig.tight_layout(pad=0.5, rect=(0.05, 0.05, 0.95, 0.95))\n",
    "title = f\"{z} achieved by {ssm} s.s. method on {net} net; protocols from left:\"\n",
    "\n",
    "for idx, proto in enumerate(df[\"protocol\"].unique()):\n",
    "    df_plotted = df.loc[\n",
    "        (df[\"network\"] == net) &\n",
    "        (df[\"protocol\"] == proto) &\n",
    "        (df[\"selection_metric\"] == ssm)\n",
    "    ]\n",
    "    df_plotted = pd.pivot_table(df_plotted, index=x, columns=y, values=z)\n",
    "    plot_heatmap(df_plotted, ax[idx], ax[2])\n",
    "    title += f\" {proto}\"\n",
    "\n",
    "fig.suptitle(title)"
   ]
  },
  {
   "attachments": {},
   "cell_type": "markdown",
   "metadata": {},
   "source": [
    "### bulk plot (pdf)"
   ]
  },
  {
   "cell_type": "code",
   "execution_count": null,
   "metadata": {},
   "outputs": [],
   "source": [
    "# define values to visualise as well as attributes of plots\n",
    "x = \"mi_value\"\n",
    "y = \"seeding_budget\" \n",
    "Z = {\n",
    "    \"gain\": {\"vrange\": (0, 100), \"cmap\": \"RdYlGn\"},\n",
    "    \"diffusion_len\": {\"vrange\": (0, df[\"diffusion_len\"].max()), \"cmap\": \"BuPu\"},\n",
    "}\n",
    "\n",
    "# create file descriptor where to save visualisations\n",
    "workdir = Path(\".\")\n",
    "workdir.mkdir(exist_ok=True)\n",
    "pdf = PdfPages(workdir.joinpath(f\"heatmaps_{'_'.join(Z)}_by_{x}_{y}.pdf\"))\n",
    "\n",
    "for net in sorted(nets):\n",
    "\n",
    "    # a dummy plot that contains just name of processed network\n",
    "    fig, ax = plt.subplots(nrows=1, ncols=1, figsize=(12, 4))\n",
    "    ax.set_visible(False)\n",
    "    fig.suptitle(f\"{net} network - results\", x=0.5, y=.5, fontsize = 15)\n",
    "    fig.savefig(pdf, format='pdf')\n",
    "    plt.close(fig)\n",
    "\n",
    "    for ssm in sorted(ss_methods):\n",
    "\n",
    "        for z, z_attrs in Z.items():\n",
    "            print(f\"processing: {net}, {ssm}, {z}\")\n",
    "\n",
    "            # prepare canvas - proto, proto, legend\n",
    "            fig, ax = plt.subplots(\n",
    "                nrows=1,\n",
    "                ncols=3,\n",
    "                figsize=(12, 4),\n",
    "                gridspec_kw={'width_ratios': [49, 49, 2]}\n",
    "            )\n",
    "            fig.tight_layout(pad=0.5, rect=(0.1, 0.1, 0.9, 0.9))\n",
    "            title = (\n",
    "                f\"{z} achieved by {ssm} s.s. method on {net} network; \"\n",
    "                \"protocols from left:\"\n",
    "            )\n",
    "\n",
    "            # prepare and plot heatmap for each proto\n",
    "            for idx, proto in enumerate(protocols):\n",
    "                df_plot = df.loc[\n",
    "                    (df[\"network\"] == net) &\n",
    "                    (df[\"protocol\"] == proto) &\n",
    "                    (df[\"selection_metric\"] == ssm)\n",
    "                ]\n",
    "                df_plot = pd.pivot_table(df_plot, index=x, columns=y, values=z)\n",
    "                if len(df_plot) == 0:  # greedy wasn't evaluated for all nets\n",
    "                    continue\n",
    "                plot_heatmap(\n",
    "                    df_plot, ax[idx], ax[2], z_attrs[\"vrange\"], z_attrs[\"cmap\"]\n",
    "                )\n",
    "                title += f\" {proto}\"\n",
    "\n",
    "            # add title and save plot to pdf\n",
    "            fig.suptitle(title)\n",
    "            fig.savefig(pdf, format='pdf')\n",
    "            plt.close(fig)\n",
    "\n",
    "pdf.close()"
   ]
  }
 ],
 "metadata": {
  "kernelspec": {
   "display_name": "ltm-seeding-mln",
   "language": "python",
   "name": "python3"
  },
  "language_info": {
   "codemirror_mode": {
    "name": "ipython",
    "version": 3
   },
   "file_extension": ".py",
   "mimetype": "text/x-python",
   "name": "python",
   "nbconvert_exporter": "python",
   "pygments_lexer": "ipython3",
   "version": "3.10.8"
  },
  "orig_nbformat": 4,
  "vscode": {
   "interpreter": {
    "hash": "370e4dcd90c6b278f2eaed32c70bf26cf961be4169d33535105c1f563db5caee"
   }
  }
 },
 "nbformat": 4,
 "nbformat_minor": 2
}
