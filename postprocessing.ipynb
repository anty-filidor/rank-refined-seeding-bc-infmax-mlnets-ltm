{
 "cells": [
  {
   "attachments": {},
   "cell_type": "markdown",
   "metadata": {},
   "source": [
    "# Notebook for results concatenation and preprocessing"
   ]
  },
  {
   "cell_type": "code",
   "execution_count": null,
   "metadata": {},
   "outputs": [],
   "source": [
    "from pathlib import Path\n",
    "import pandas as pd"
   ]
  },
  {
   "attachments": {},
   "cell_type": "markdown",
   "metadata": {},
   "source": [
    "## Random seed selector processing"
   ]
  },
  {
   "cell_type": "code",
   "execution_count": null,
   "metadata": {},
   "outputs": [],
   "source": [
    "random_path = Path(\"experiments/random/results.csv\")\n",
    "random_df = pd.read_csv(random_path, index_col=0)\n",
    "random_df.head()"
   ]
  },
  {
   "cell_type": "code",
   "execution_count": null,
   "metadata": {},
   "outputs": [],
   "source": [
    "experiment_params = set(random_df.columns)\n",
    "experiment_params.remove(\"repetition_run\")\n",
    "experiment_params.remove(\"gain\")\n",
    "experiment_params.remove(\"diffusion_len\")\n",
    "experiment_params.remove(\"active_actors_prct\")\n",
    "experiment_params.remove(\"seed_actors_prct\")\n",
    "\n",
    "experiment_metrics = set(random_df.columns).difference(experiment_params)\n",
    "\n",
    "experiment_params = list(experiment_params)\n",
    "experiment_metrics = list(experiment_metrics)\n",
    "\n",
    "print(f\"Columns that are multi-indices: {experiment_params}\")\n",
    "print(f\"Columns that have been left: {experiment_metrics}\")"
   ]
  },
  {
   "cell_type": "code",
   "execution_count": null,
   "metadata": {},
   "outputs": [],
   "source": [
    "reindexed_df = random_df.set_index(experiment_params)\n",
    "reindexed_df.head()"
   ]
  },
  {
   "cell_type": "code",
   "execution_count": null,
   "metadata": {},
   "outputs": [],
   "source": [
    "averaged_random_df = pd.DataFrame()\n",
    "for metric in experiment_metrics:\n",
    "    avg = reindexed_df.groupby(reindexed_df.index)[str(metric)].mean()\n",
    "    averaged_random_df = pd.concat([averaged_random_df, avg], axis=1)\n",
    "averaged_random_df.index.set_names(experiment_params, inplace=True)\n",
    "averaged_random_df = averaged_random_df.reset_index()\n",
    "\n",
    "averaged_random_df[\"selection_metric\"] = \"random\"\n",
    "\n",
    "averaged_random_df.head()"
   ]
  },
  {
   "attachments": {},
   "cell_type": "markdown",
   "metadata": {},
   "source": [
    "## Greedy seed selector processing"
   ]
  },
  {
   "cell_type": "code",
   "execution_count": null,
   "metadata": {},
   "outputs": [],
   "source": [
    "reference_df = averaged_random_df\n",
    "\n",
    "greedy_path = Path(\"experiments/greedy/results.csv\")\n",
    "greedy_df = pd.read_csv(greedy_path)\n",
    "greedy_df = greedy_df.drop(\"Unnamed: 0\", axis=1)\n",
    "\n",
    "greedy_df.head()"
   ]
  },
  {
   "cell_type": "code",
   "execution_count": null,
   "metadata": {},
   "outputs": [],
   "source": [
    "print(f\"Length of raw dataframe: {len(greedy_df)}\")\n",
    "\n",
    "for net in greedy_df[\"network\"].unique():\n",
    "\n",
    "    # take unique seed_actors_prct vals for all ssm except greedy given the net\n",
    "    allowed_values = reference_df.loc[\n",
    "        reference_df[\"network\"] == net\n",
    "    ][\"seed_actors_prct\"].unique()\n",
    "\n",
    "    # take all rows where ssm is greedy and seed_actors_prct is not a good val\n",
    "    greedy_rows_to_be_dropped = greedy_df.loc[\n",
    "        (greedy_df[\"network\"] == net) &\n",
    "        (~greedy_df[\"seed_actors_prct\"].round(2).isin(allowed_values.round(2)))\n",
    "    ]\n",
    "\n",
    "    print(f\"Removing {len(greedy_rows_to_be_dropped)} rows for net: {net}\")\n",
    "    greedy_df = greedy_df.drop(greedy_rows_to_be_dropped.index)\n",
    "\n",
    "print(f\"Length of processed dataframe: {len(greedy_df)}\")\n",
    "\n",
    "greedy_df[\"selection_metric\"] = \"greedy\"\n",
    "# greedy_df.to_csv(\"greedy_imporved.csv\")\n",
    "greedy_df.head()\n"
   ]
  },
  {
   "attachments": {},
   "cell_type": "markdown",
   "metadata": {},
   "source": [
    "## Processing of another metrics"
   ]
  },
  {
   "cell_type": "code",
   "execution_count": null,
   "metadata": {},
   "outputs": [],
   "source": [
    "root_path = Path(\"experiments\")\n",
    "final_path = root_path.joinpath(\"all_results.csv\")\n",
    "if final_path.exists():\n",
    "    final_path.unlink()\n",
    "experiments = [*root_path.glob(\"*\")]"
   ]
  },
  {
   "cell_type": "code",
   "execution_count": null,
   "metadata": {},
   "outputs": [],
   "source": [
    "def prepare_csv(metric_path):\n",
    "    df = pd.read_csv(metric_path.joinpath(\"results.csv\"), index_col=0)\n",
    "    if metric_path.stem == \"k_sheel\":\n",
    "        df[\"selection_metric\"] = \"k_shell\"\n",
    "    elif metric_path.stem == \"k_sheel_mln\":\n",
    "        df[\"selection_metric\"] = \"k_shell_mln\"\n",
    "    else:\n",
    "        df[\"selection_metric\"] = metric_path.stem  \n",
    "    return df"
   ]
  },
  {
   "cell_type": "code",
   "execution_count": null,
   "metadata": {},
   "outputs": [],
   "source": [
    "exp_dfs = [\n",
    "    prepare_csv(e_name) for e_name in experiments if \n",
    "    (\"random\" not in str(e_name) and \"greedy\" not in str(e_name))\n",
    "]"
   ]
  },
  {
   "cell_type": "markdown",
   "metadata": {},
   "source": [
    "## Saving final dataframe"
   ]
  },
  {
   "cell_type": "code",
   "execution_count": null,
   "metadata": {},
   "outputs": [],
   "source": [
    "exp_dfs.append(averaged_random_df)\n",
    "exp_dfs.append(greedy_df)\n",
    "final_df = pd.concat(exp_dfs)\n",
    "final_df = final_df.drop(\"repetition_run\", axis=1)\n",
    "final_df = final_df.reset_index().drop(\"index\", axis=1)"
   ]
  },
  {
   "cell_type": "code",
   "execution_count": null,
   "metadata": {},
   "outputs": [],
   "source": [
    "final_df.to_csv(root_path.joinpath(\"all_results.csv\"))"
   ]
  }
 ],
 "metadata": {
  "kernelspec": {
   "display_name": "ltm-seeding-mln",
   "language": "python",
   "name": "python3"
  },
  "language_info": {
   "codemirror_mode": {
    "name": "ipython",
    "version": 3
   },
   "file_extension": ".py",
   "mimetype": "text/x-python",
   "name": "python",
   "nbconvert_exporter": "python",
   "pygments_lexer": "ipython3",
   "version": "3.10.8"
  },
  "orig_nbformat": 4,
  "vscode": {
   "interpreter": {
    "hash": "370e4dcd90c6b278f2eaed32c70bf26cf961be4169d33535105c1f563db5caee"
   }
  }
 },
 "nbformat": 4,
 "nbformat_minor": 2
}
