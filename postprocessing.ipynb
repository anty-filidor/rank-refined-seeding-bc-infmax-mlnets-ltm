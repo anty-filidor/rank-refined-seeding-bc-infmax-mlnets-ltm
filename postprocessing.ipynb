{
 "cells": [
  {
   "cell_type": "code",
   "execution_count": 25,
   "metadata": {},
   "outputs": [],
   "source": [
    "from pathlib import Path\n",
    "import pandas as pd"
   ]
  },
  {
   "cell_type": "code",
   "execution_count": 26,
   "metadata": {},
   "outputs": [],
   "source": [
    "root_path = Path(\"experiments\")\n",
    "experiments = [*root_path.glob(\"*\")]"
   ]
  },
  {
   "cell_type": "code",
   "execution_count": 27,
   "metadata": {},
   "outputs": [],
   "source": [
    "def prepare_csv(metric_path):\n",
    "    df = pd.read_csv(metric_path.joinpath(\"results.csv\"), index_col=0)\n",
    "    df[\"selection_metric\"] = metric_path.stem\n",
    "    return df"
   ]
  },
  {
   "cell_type": "code",
   "execution_count": 28,
   "metadata": {},
   "outputs": [],
   "source": [
    "exp_dfs = [prepare_csv(e_name) for e_name in experiments]\n",
    "final_df = pd.concat(exp_dfs)"
   ]
  },
  {
   "cell_type": "code",
   "execution_count": 29,
   "metadata": {},
   "outputs": [],
   "source": [
    "final_df.to_csv(root_path.joinpath(\"all_results.csv\"))"
   ]
  },
  {
   "cell_type": "code",
   "execution_count": null,
   "metadata": {},
   "outputs": [],
   "source": []
  }
 ],
 "metadata": {
  "kernelspec": {
   "display_name": "ltm-seeding-mln",
   "language": "python",
   "name": "python3"
  },
  "language_info": {
   "codemirror_mode": {
    "name": "ipython",
    "version": 3
   },
   "file_extension": ".py",
   "mimetype": "text/x-python",
   "name": "python",
   "nbconvert_exporter": "python",
   "pygments_lexer": "ipython3",
   "version": "3.10.8"
  },
  "orig_nbformat": 4,
  "vscode": {
   "interpreter": {
    "hash": "f2618ec082162e8f183dcf3609f698e9c09b35c869205f4fd62ef5d55e1bf336"
   }
  }
 },
 "nbformat": 4,
 "nbformat_minor": 2
}
