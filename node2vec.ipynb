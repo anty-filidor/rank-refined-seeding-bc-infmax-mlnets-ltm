{
 "cells": [
  {
   "cell_type": "code",
   "execution_count": null,
   "metadata": {},
   "outputs": [],
   "source": [
    "import matplotlib.pyplot as plt\n",
    "import numpy as np\n",
    "import torch\n",
    "\n",
    "from torch_geometric.nn import Node2Vec\n",
    "from torch_geometric.utils.convert import from_networkx\n",
    "\n",
    "from sklearn.manifold import TSNE\n",
    "from sklearn.cluster import KMeans"
   ]
  },
  {
   "cell_type": "code",
   "execution_count": null,
   "metadata": {},
   "outputs": [],
   "source": [
    "def make_deterministic(random_seed = 123):\n",
    "    torch.manual_seed(random_seed)\n",
    "    torch.cuda.manual_seed(random_seed)\n",
    "    torch.backends.cudnn.deterministic = True\n",
    "    torch.backends.cudnn.benchmark = False\n",
    "    np.random.seed(random_seed)\n",
    "\n",
    "make_deterministic()"
   ]
  },
  {
   "cell_type": "code",
   "execution_count": null,
   "metadata": {},
   "outputs": [],
   "source": [
    "device = 'cuda' if torch.cuda.is_available() else 'cpu'\n",
    "print(f\"target device: {device}\")"
   ]
  },
  {
   "cell_type": "code",
   "execution_count": null,
   "metadata": {},
   "outputs": [],
   "source": [
    "from misc.loader import get_lazega_network\n",
    "import networkx as nx\n",
    "nx_net = get_lazega_network().layers[\"friendship\"]\n",
    "\n",
    "no_data_graph = nx.DiGraph() # change to Graph() if your graph is undirected\n",
    "no_data_graph.add_nodes_from(nx_net.nodes())\n",
    "no_data_graph.add_edges_from(nx_net.edges())\n",
    "\n",
    "tg_net = from_networkx(no_data_graph, None, None)\n",
    "\n",
    "print(\"edges: \", len(nx_net.edges()), \"nodes: \", len(nx_net.nodes()))\n",
    "print(np.unique(nx_net.nodes()))\n",
    "print(tg_net)\n",
    "print(torch.unique(tg_net.edge_index))\n",
    "\n",
    "# torch.zeros(pt_net.num_nodes, dtype=torch.bool)\n",
    "# torch.rand(10) < 0.5\n"
   ]
  },
  {
   "cell_type": "code",
   "execution_count": null,
   "metadata": {},
   "outputs": [],
   "source": [
    "model = Node2Vec(\n",
    "    tg_net.edge_index,\n",
    "    embedding_dim=64,\n",
    "    walk_length=20,\n",
    "    context_size=10,\n",
    "    walks_per_node=10,\n",
    "    num_negative_samples=1,\n",
    "    p=1,\n",
    "    q=1,\n",
    "    sparse=False\n",
    ").to(device)\n",
    "\n",
    "model_parameters = filter(lambda p: p.requires_grad, model.parameters())\n",
    "params = sum([np.prod(p.size()) for p in model_parameters])\n",
    "print(f\"number of trainable parameters: {params}\")\n",
    "\n",
    "loader = model.loader(batch_size=50, shuffle=True, num_workers=4)\n",
    "optimizer = torch.optim.SparseAdam(list(model.parameters()), lr=0.01)"
   ]
  },
  {
   "cell_type": "code",
   "execution_count": null,
   "metadata": {},
   "outputs": [],
   "source": [
    "def train():\n",
    "    model.train()\n",
    "    total_loss = 0\n",
    "    for pos_rw, neg_rw in loader:\n",
    "        optimizer.zero_grad()\n",
    "        loss = model.loss(pos_rw.to(device), neg_rw.to(device))\n",
    "        loss.backward()\n",
    "        optimizer.step()\n",
    "        total_loss += loss.item()\n",
    "    return total_loss / len(loader)\n",
    "\n",
    "for epoch in range(1, 101):\n",
    "    loss = train()\n",
    "    acc = 0\n",
    "    if epoch % 10 == 0:\n",
    "        print(f\"Epoch: {epoch:02d}, Loss: {loss:.4f}\")"
   ]
  },
  {
   "cell_type": "code",
   "execution_count": null,
   "metadata": {},
   "outputs": [],
   "source": [
    "embeddings = model().cpu().detach().numpy()\n",
    "embeddings.shape"
   ]
  },
  {
   "cell_type": "code",
   "execution_count": null,
   "metadata": {},
   "outputs": [],
   "source": [
    "num_clusters = 5\n",
    "labels = KMeans(n_clusters=num_clusters, n_init=300).fit(embeddings)\n",
    "print(np.unique(labels.labels_))"
   ]
  },
  {
   "attachments": {},
   "cell_type": "markdown",
   "metadata": {},
   "source": [
    "## Visualisation of embeddings"
   ]
  },
  {
   "cell_type": "code",
   "execution_count": null,
   "metadata": {},
   "outputs": [],
   "source": [
    "# obtain labels of generated clusters\n",
    "embedding_labels = labels.labels_\n",
    "\n",
    "# make a map of cluster ids and unique colors\n",
    "cluster_labels = np.unique(embedding_labels)\n",
    "cluster_colors = plt.cm.get_cmap(\"jet\", len(cluster_labels))\n",
    "color_map = {cl: cluster_colors(idx) for idx, cl in enumerate(cluster_labels)}\n",
    "\n",
    "# assign collor to each node of the network\n",
    "embedding_colors = np.array(np.vectorize(color_map.get)(embedding_labels)).T"
   ]
  },
  {
   "cell_type": "code",
   "execution_count": null,
   "metadata": {},
   "outputs": [],
   "source": [
    "def plot_embeddings(embedding_points, embedding_labels, cluster_color_map):\n",
    "    emb_pts_reduced = TSNE(n_components = 2).fit_transform(embedding_points)\n",
    "    plt.figure(figsize=(10, 8))\n",
    "    for cluster_id in cluster_color_map.keys():\n",
    "        plt.scatter(\n",
    "            emb_pts_reduced[embedding_labels == cluster_id, 0],\n",
    "            emb_pts_reduced[embedding_labels == cluster_id, 1],\n",
    "            s=20,\n",
    "            color=cluster_color_map[cluster_id],\n",
    "        )\n",
    "    plt.axis(\"off\")\n",
    "    plt.show()\n",
    "\n",
    "plot_embeddings(embeddings, embedding_labels, color_map)"
   ]
  },
  {
   "cell_type": "code",
   "execution_count": null,
   "metadata": {},
   "outputs": [],
   "source": [
    "def plot_network(network, color_map):\n",
    "    plt.figure(figsize=(10, 8))\n",
    "    nx.draw_spring(network, node_size=30, arrows=False, node_color=color_map)\n",
    "    plt.show()\n",
    "\n",
    "plot_network(nx_net, embedding_colors)\n"
   ]
  }
 ],
 "metadata": {
  "kernelspec": {
   "display_name": "mldev",
   "language": "python",
   "name": "python3"
  },
  "language_info": {
   "codemirror_mode": {
    "name": "ipython",
    "version": 3
   },
   "file_extension": ".py",
   "mimetype": "text/x-python",
   "name": "python",
   "nbconvert_exporter": "python",
   "pygments_lexer": "ipython3",
   "version": "3.8.16"
  },
  "orig_nbformat": 4,
  "vscode": {
   "interpreter": {
    "hash": "e9af0c09bea6b9eb85699dc5d91ed27e368b9df88fcf61eaa04daacd85fc1217"
   }
  }
 },
 "nbformat": 4,
 "nbformat_minor": 2
}
