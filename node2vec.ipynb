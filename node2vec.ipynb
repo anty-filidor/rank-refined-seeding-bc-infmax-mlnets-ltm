{
 "cells": [
  {
   "attachments": {},
   "cell_type": "markdown",
   "metadata": {},
   "source": [
    "# Seed selection experiments based on node2vec and k-means algorithms"
   ]
  },
  {
   "cell_type": "code",
   "execution_count": null,
   "metadata": {},
   "outputs": [],
   "source": [
    "import matplotlib.pyplot as plt\n",
    "import networkx as nx\n",
    "import numpy as np\n",
    "import torch\n",
    "\n",
    "from misc.loader import get_lazega_network\n",
    "from misc.utils import set_seed\n",
    "from torch_geometric.datasets import Planetoid\n",
    "from torch_geometric.nn import Node2Vec\n",
    "from torch_geometric.utils.convert import from_networkx\n",
    "from sklearn.cluster import KMeans\n",
    "from sklearn.manifold import TSNE"
   ]
  },
  {
   "cell_type": "code",
   "execution_count": null,
   "metadata": {},
   "outputs": [],
   "source": [
    "def make_deterministic(random_seed=123):\n",
    "    set_seed(random_seed)\n",
    "    torch.manual_seed(random_seed)\n",
    "    torch.cuda.manual_seed(random_seed)\n",
    "    torch.backends.cudnn.deterministic = True\n",
    "    torch.backends.cudnn.benchmark = False\n",
    "    np.random.seed(random_seed)\n",
    "\n",
    "# make_deterministic()\n",
    "\n",
    "device = \"cuda\" if torch.cuda.is_available() else \"cpu\"\n",
    "print(f\"target device: {device}\")"
   ]
  },
  {
   "attachments": {},
   "cell_type": "markdown",
   "metadata": {},
   "source": [
    "## Load network"
   ]
  },
  {
   "cell_type": "code",
   "execution_count": null,
   "metadata": {},
   "outputs": [],
   "source": [
    "# load exemplar network used in another experiments\n",
    "\n",
    "nx_net = get_lazega_network().layers[\"friendship\"]\n",
    "print(\"NX edges: \", egs := len(nx_net.edges()), \"nodes: \", len(nx_net.nodes()))\n",
    "\n",
    "no_data_graph = nx.Graph()\n",
    "no_data_graph.add_nodes_from(nx_net.nodes())\n",
    "no_data_graph.add_edges_from(nx_net.edges())\n",
    "tg_net = from_networkx(no_data_graph, None, None)\n",
    "print(\"PyG \", tg_net)\n",
    "\n",
    "# or out of the box data\n",
    "# tg_net = Planetoid(root='/tmp/Cora', name='Cora')[0]\n",
    "# print(\"PyG -> \", tg_net)"
   ]
  },
  {
   "attachments": {},
   "cell_type": "markdown",
   "metadata": {},
   "source": [
    "## Define and train node2vec"
   ]
  },
  {
   "cell_type": "code",
   "execution_count": null,
   "metadata": {},
   "outputs": [],
   "source": [
    "model = Node2Vec(\n",
    "    tg_net.edge_index,\n",
    "    embedding_dim=np.log(e/2).round(0).astype(int),  # amend this - curse of dimensionality!\n",
    "    walk_length=20,\n",
    "    context_size=10,\n",
    "    walks_per_node=10,\n",
    "    num_negative_samples=1,\n",
    "    p=1,\n",
    "    q=1,\n",
    "    sparse=True\n",
    ").to(device)\n",
    "\n",
    "model_parameters = filter(lambda p: p.requires_grad, model.parameters())\n",
    "\n",
    "num_params = sum([np.prod(p.size()) for p in model_parameters])\n",
    "print(f\"number of trainable parameters: {num_params}\")\n",
    "print(f\"embedding dimension space: {model.embedding_dim}\")\n",
    "\n",
    "loader = model.loader(batch_size=50, shuffle=True, num_workers=4)\n",
    "optimizer = torch.optim.SparseAdam(list(model.parameters()), lr=0.01)"
   ]
  },
  {
   "cell_type": "code",
   "execution_count": null,
   "metadata": {},
   "outputs": [],
   "source": [
    "# training loop - we are optimising model for 100 epochs\n",
    "\n",
    "last_loss = 10000\n",
    "\n",
    "for epoch in range(200):\n",
    "\n",
    "    model.train()\n",
    "    epoch_loss = 0\n",
    "\n",
    "    for pos_rw, neg_rw in loader:\n",
    "        optimizer.zero_grad()\n",
    "        loss = model.loss(pos_rw.to(device), neg_rw.to(device))\n",
    "        loss.backward()\n",
    "        optimizer.step()\n",
    "        epoch_loss += loss.item()\n",
    "\n",
    "    epoch_loss = epoch_loss / len(loader)\n",
    "    print(\n",
    "        f\"Epoch: {epoch:03d}, Loss: {epoch_loss:.4f}, \" +\n",
    "        f\"Best loss: {last_loss:.4f}\"\n",
    "    )\n",
    "\n",
    "    if epoch_loss > last_loss:\n",
    "        print(f\"No progress in training! Finishin in epoch  {epoch:03d}\")\n",
    "        break\n",
    "    else:\n",
    "        last_loss = epoch_loss"
   ]
  },
  {
   "cell_type": "code",
   "execution_count": null,
   "metadata": {},
   "outputs": [],
   "source": [
    "# obtain embedding coordinates of nodes\n",
    "embeddings = model().cpu().detach().numpy()\n",
    "print(f\"obtained following embedding tensor: {embeddings.shape}\")"
   ]
  },
  {
   "attachments": {},
   "cell_type": "markdown",
   "metadata": {},
   "source": [
    "## Define and fit k-means"
   ]
  },
  {
   "cell_type": "code",
   "execution_count": null,
   "metadata": {},
   "outputs": [],
   "source": [
    "num_clusters = 5\n",
    "kmeans = KMeans(n_clusters=num_clusters, n_init=300).fit(embeddings)"
   ]
  },
  {
   "attachments": {},
   "cell_type": "markdown",
   "metadata": {},
   "source": [
    "## Visualisation of embeddings"
   ]
  },
  {
   "cell_type": "code",
   "execution_count": null,
   "metadata": {},
   "outputs": [],
   "source": [
    "# obtain labels of generated clusters\n",
    "embedding_labels = kmeans.labels_\n",
    "\n",
    "centroids = kmeans.cluster_centers_\n",
    "centroid_labels = np.arange(0, len(centroids), 1)\n",
    "\n",
    "# make a map of cluster ids and unique colors\n",
    "cluster_labels = np.unique(embedding_labels)\n",
    "cluster_colors = plt.cm.get_cmap(\"jet\", len(cluster_labels))\n",
    "color_map = {cl: cluster_colors(idx) for idx, cl in enumerate(cluster_labels)}\n",
    "\n",
    "# assign collor to each node of the network\n",
    "embedding_colors = np.array(np.vectorize(color_map.get)(embedding_labels)).T"
   ]
  },
  {
   "cell_type": "code",
   "execution_count": null,
   "metadata": {},
   "outputs": [],
   "source": [
    "def plot_embeddings(ax, emb_points, emb_labels, cluster_color_map, marker, s):\n",
    "    for cluster_id in cluster_color_map.keys():\n",
    "        ax.scatter(\n",
    "            emb_points[emb_labels == cluster_id, 0],\n",
    "            emb_points[emb_labels == cluster_id, 1],\n",
    "            s=s,\n",
    "            marker=marker,\n",
    "            color=cluster_color_map[cluster_id],\n",
    "        )\n",
    "\n",
    "fig, ax = plt.subplots(nrows=1, ncols=1, figsize=(10, 8))\n",
    "\n",
    "tsne = TSNE(n_components=2)\n",
    "\n",
    "concat_embs = np.concatenate([embeddings, centroids], axis=0)\n",
    "concat_embs_reduced = tsne.fit_transform(concat_embs)\n",
    "\n",
    "plot_embeddings(\n",
    "    ax,\n",
    "    concat_embs_reduced[:embeddings.shape[0], :],\n",
    "    embedding_labels,\n",
    "    color_map,\n",
    "    \"o\",\n",
    "    20\n",
    ")\n",
    "plot_embeddings(\n",
    "    ax,\n",
    "    concat_embs_reduced[embeddings.shape[0]:, :],\n",
    "    centroid_labels,\n",
    "    color_map,\n",
    "    \"X\",\n",
    "    30\n",
    ")\n",
    "plt.axis(\"off\")\n",
    "plt.show()"
   ]
  },
  {
   "cell_type": "code",
   "execution_count": null,
   "metadata": {},
   "outputs": [],
   "source": [
    "def plot_network(network, color_map):\n",
    "    plt.figure(figsize=(10, 8))\n",
    "    nx.draw_spring(network, node_size=30, arrows=False, node_color=color_map)\n",
    "    plt.show()\n",
    "\n",
    "plot_network(nx_net, embedding_colors)\n"
   ]
  },
  {
   "attachments": {},
   "cell_type": "markdown",
   "metadata": {},
   "source": [
    "## To do\n",
    "\n",
    "1. match centroids with nodes\n",
    "2. optimise parameters of node2vec\n",
    "3. optimise parameters of k-means (especially num oof dimensions)\n",
    "4. implement seed selector basing on this pipeline"
   ]
  },
  {
   "cell_type": "markdown",
   "metadata": {},
   "source": []
  }
 ],
 "metadata": {
  "kernelspec": {
   "display_name": "mldev",
   "language": "python",
   "name": "python3"
  },
  "language_info": {
   "codemirror_mode": {
    "name": "ipython",
    "version": 3
   },
   "file_extension": ".py",
   "mimetype": "text/x-python",
   "name": "python",
   "nbconvert_exporter": "python",
   "pygments_lexer": "ipython3",
   "version": "3.8.16"
  },
  "orig_nbformat": 4,
  "vscode": {
   "interpreter": {
    "hash": "e9af0c09bea6b9eb85699dc5d91ed27e368b9df88fcf61eaa04daacd85fc1217"
   }
  }
 },
 "nbformat": 4,
 "nbformat_minor": 2
}
