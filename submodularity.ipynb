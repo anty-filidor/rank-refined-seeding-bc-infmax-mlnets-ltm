{
 "cells": [
  {
   "cell_type": "code",
   "execution_count": 131,
   "metadata": {},
   "outputs": [],
   "source": [
    "import warnings\n",
    "from typing import Literal\n",
    "\n",
    "import network_diffusion as nd\n",
    "from misc.utils import extract_basic_stats\n",
    "from tqdm import tqdm\n",
    "\n",
    "\n",
    "warnings.simplefilter(action='ignore', category=FutureWarning)"
   ]
  },
  {
   "cell_type": "code",
   "execution_count": 9,
   "metadata": {},
   "outputs": [],
   "source": [
    "from itertools import chain, combinations\n",
    "\n",
    "def powerset(iterable):\n",
    "    \"powerset([1,2,3]) --> () (1,) (2,) (3,) (1,2) (1,3) (2,3) (1,2,3)\"\n",
    "    s = list(iterable)\n",
    "    return chain.from_iterable(combinations(s, r) for r in range(len(s)+1))"
   ]
  },
  {
   "cell_type": "code",
   "execution_count": 137,
   "metadata": {},
   "outputs": [],
   "source": [
    "def get_sigma(\n",
    "    S_0: set[nd.MLNetworkActor],\n",
    "    A: set[nd.MLNetworkActor],\n",
    "    M: nd.MultilayerNetwork,\n",
    "    mi: float,\n",
    "    delta: Literal[\"OR\", \"AND\"],\n",
    ") -> int:\n",
    "    \"\"\"Obtain sigma for given network, seed set and MLTM params.\"\"\"\n",
    "    A_order = [*S_0, *A.difference(S_0)]\n",
    "    S_0_card = 100 * len(S_0) / len(A)\n",
    "    model = nd.models.MLTModel(\n",
    "        seeding_budget=[100 - S_0_card, S_0_card],\n",
    "        seed_selector=nd.seeding.MockyActorSelector(A_order),\n",
    "        protocol=delta,\n",
    "        mi_value=mi,\n",
    "    )\n",
    "    logger = nd.Simulator(model, M).perform_propagation(10000, 1)\n",
    "    return extract_basic_stats(logger._local_stats)[1]"
   ]
  },
  {
   "cell_type": "code",
   "execution_count": 6,
   "metadata": {},
   "outputs": [],
   "source": [
    "net = nd.mln.functions.get_toy_network_piotr()\n",
    "actors = net.get_actors()\n",
    "mi_vals = [0.1, 0.2, 0.3, 0.4, 0.5, 0.6, 0.7, 0.8, 0.9, 1.0]"
   ]
  },
  {
   "cell_type": "code",
   "execution_count": 149,
   "metadata": {},
   "outputs": [
    {
     "name": "stderr",
     "output_type": "stream",
     "text": [
      "                                                                                             ?, ?it/s]\r"
     ]
    },
    {
     "ename": "AssertionError",
     "evalue": "S: [6, 5], a: 11, S': [6]   s(S' u {a}): 2, s(S'): 1 ... s(S u {a}): 4, s(S): 2",
     "output_type": "error",
     "traceback": [
      "\u001b[0;31m---------------------------------------------------------------------------\u001b[0m",
      "\u001b[0;31mAssertionError\u001b[0m                            Traceback (most recent call last)",
      "Cell \u001b[0;32mIn[149], line 26\u001b[0m\n\u001b[1;32m     23\u001b[0m strs \u001b[38;5;241m=\u001b[39m \u001b[38;5;124mf\u001b[39m\u001b[38;5;124m\"\u001b[39m\u001b[38;5;124ms(S\u001b[39m\u001b[38;5;124m'\u001b[39m\u001b[38;5;124m u \u001b[39m\u001b[38;5;130;01m{{\u001b[39;00m\u001b[38;5;124ma\u001b[39m\u001b[38;5;130;01m}}\u001b[39;00m\u001b[38;5;124m): \u001b[39m\u001b[38;5;132;01m{\u001b[39;00msigma_S_prime_a\u001b[38;5;132;01m}\u001b[39;00m\u001b[38;5;124m, s(S\u001b[39m\u001b[38;5;124m'\u001b[39m\u001b[38;5;124m): \u001b[39m\u001b[38;5;132;01m{\u001b[39;00msigma_S_prime\u001b[38;5;132;01m}\u001b[39;00m\u001b[38;5;124m ... s(S u \u001b[39m\u001b[38;5;130;01m{{\u001b[39;00m\u001b[38;5;124ma\u001b[39m\u001b[38;5;130;01m}}\u001b[39;00m\u001b[38;5;124m): \u001b[39m\u001b[38;5;132;01m{\u001b[39;00msigma_S_a\u001b[38;5;132;01m}\u001b[39;00m\u001b[38;5;124m, s(S): \u001b[39m\u001b[38;5;132;01m{\u001b[39;00msigma_S\u001b[38;5;132;01m}\u001b[39;00m\u001b[38;5;124m\"\u001b[39m\n\u001b[1;32m     25\u001b[0m \u001b[38;5;28;01massert\u001b[39;00m sigma_S_prime \u001b[38;5;241m<\u001b[39m\u001b[38;5;241m=\u001b[39m sigma_S, \u001b[38;5;124mf\u001b[39m\u001b[38;5;124m\"\u001b[39m\u001b[38;5;132;01m{\u001b[39;00mstrS\u001b[38;5;132;01m}\u001b[39;00m\u001b[38;5;124m   \u001b[39m\u001b[38;5;132;01m{\u001b[39;00mstrs\u001b[38;5;132;01m}\u001b[39;00m\u001b[38;5;124m\"\u001b[39m\n\u001b[0;32m---> 26\u001b[0m \u001b[38;5;28;01massert\u001b[39;00m sigma_S_prime_a \u001b[38;5;241m-\u001b[39m sigma_S_prime \u001b[38;5;241m>\u001b[39m\u001b[38;5;241m=\u001b[39m sigma_S_a \u001b[38;5;241m-\u001b[39m sigma_S, \u001b[38;5;124mf\u001b[39m\u001b[38;5;124m\"\u001b[39m\u001b[38;5;132;01m{\u001b[39;00mstrS\u001b[38;5;132;01m}\u001b[39;00m\u001b[38;5;124m   \u001b[39m\u001b[38;5;132;01m{\u001b[39;00mstrs\u001b[38;5;132;01m}\u001b[39;00m\u001b[38;5;124m\"\u001b[39m\n",
      "\u001b[0;31mAssertionError\u001b[0m: S: [6, 5], a: 11, S': [6]   s(S' u {a}): 2, s(S'): 1 ... s(S u {a}): 4, s(S): 2"
     ]
    }
   ],
   "source": [
    "slen = 0\n",
    "i = 0\n",
    "\n",
    "delta = \"AND\"\n",
    "mi = 0.5\n",
    "\n",
    "for S in powerset(actors):\n",
    "    sigma_S = get_sigma(S, actors, net, mi, delta)\n",
    "    ids_S = [a.actor_id for a in S]\n",
    "\n",
    "    for a in set(actors).difference(S):\n",
    "        sigma_S_a = get_sigma([*S, a], actors, net, mi, delta)\n",
    "        id_a = a.actor_id\n",
    "\n",
    "        for S_prime in powerset(S):\n",
    "            if len(S_prime) == 0:\n",
    "                continue\n",
    "            sigma_S_prime = get_sigma(S_prime, actors, net, mi, delta)\n",
    "            sigma_S_prime_a = get_sigma([*S_prime, a], actors, net, mi, delta)     \n",
    "            ids_S_prime = [a.actor_id for a in S_prime]\n",
    "\n",
    "            strS = f\"S: {ids_S}, a: {id_a}, S': {ids_S_prime}\"\n",
    "            strs = f\"s(S' u {{a}}): {sigma_S_prime_a}, s(S'): {sigma_S_prime} ... s(S u {{a}}): {sigma_S_a}, s(S): {sigma_S}\"\n",
    "\n",
    "            assert sigma_S_prime <= sigma_S, f\"{strS}   {strs}\"\n",
    "            assert sigma_S_prime_a - sigma_S_prime >= sigma_S_a - sigma_S, f\"{strS}   {strs}\""
   ]
  },
  {
   "cell_type": "code",
   "execution_count": 147,
   "metadata": {},
   "outputs": [
    {
     "name": "stderr",
     "output_type": "stream",
     "text": [
      "                                                                                             ?, ?it/s]\r"
     ]
    },
    {
     "data": {
      "text/plain": [
       "(1, [MLNetworkActor: 5 at 4899807120])"
      ]
     },
     "execution_count": 147,
     "metadata": {},
     "output_type": "execute_result"
    }
   ],
   "source": [
    "# AssertionError: S: [6], a: 5, S': []   s(S'u{a}): 1, s(S'): 0 ... s(Su{a}): 11, s(S): 1\n",
    "# AssertionError: S: [6, 11], a: 5, S': [11]   s(S' u {a}): 3, s(S'): 2 ... s(S u {a}): 11, s(S): 3"
   ]
  },
  {
   "cell_type": "code",
   "execution_count": null,
   "metadata": {},
   "outputs": [],
   "source": []
  }
 ],
 "metadata": {
  "kernelspec": {
   "display_name": "ltm-seeding-mln-2",
   "language": "python",
   "name": "ltm-seeding-mln-2"
  },
  "language_info": {
   "codemirror_mode": {
    "name": "ipython",
    "version": 3
   },
   "file_extension": ".py",
   "mimetype": "text/x-python",
   "name": "python",
   "nbconvert_exporter": "python",
   "pygments_lexer": "ipython3",
   "version": "3.10.15"
  }
 },
 "nbformat": 4,
 "nbformat_minor": 2
}
